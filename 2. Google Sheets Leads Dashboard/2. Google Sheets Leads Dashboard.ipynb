{
 "cells": [
  {
   "cell_type": "markdown",
   "id": "decimal-gabriel",
   "metadata": {},
   "source": [
    "# **GOOGLE SHEETS LEADS DASHBOARD**"
   ]
  },
  {
   "cell_type": "code",
   "execution_count": 1,
   "id": "secret-egypt",
   "metadata": {},
   "outputs": [],
   "source": [
    "import pandas as pd\n",
    "import numpy as np\n",
    "\n",
    "import gspread\n",
    "\n",
    "from gspread_pandas import Spread\n",
    "from google.oauth2.service_account import Credentials\n",
    "\n",
    "scopes = ['https://www.googleapis.com/auth/spreadsheets', \n",
    "          'https://www.googleapis.com/auth/drive']\n",
    "\n",
    "credentials = Credentials.from_service_account_file('gspread_service_account.json', scopes = scopes)\n",
    "\n",
    "gc = gspread.authorize(credentials)"
   ]
  },
  {
   "cell_type": "markdown",
   "id": "fifty-morocco",
   "metadata": {},
   "source": [
    "## **1. DATA LOADING AND PREPROCESSING**"
   ]
  },
  {
   "cell_type": "code",
   "execution_count": 2,
   "id": "destroyed-charles",
   "metadata": {},
   "outputs": [],
   "source": [
    "df = pd.read_csv('lead_report_dataset.csv', index_col = [0])"
   ]
  },
  {
   "cell_type": "code",
   "execution_count": 3,
   "id": "lucky-count",
   "metadata": {
    "scrolled": false
   },
   "outputs": [
    {
     "data": {
      "text/html": [
       "<div>\n",
       "<style scoped>\n",
       "    .dataframe tbody tr th:only-of-type {\n",
       "        vertical-align: middle;\n",
       "    }\n",
       "\n",
       "    .dataframe tbody tr th {\n",
       "        vertical-align: top;\n",
       "    }\n",
       "\n",
       "    .dataframe thead th {\n",
       "        text-align: right;\n",
       "    }\n",
       "</style>\n",
       "<table border=\"1\" class=\"dataframe\">\n",
       "  <thead>\n",
       "    <tr style=\"text-align: right;\">\n",
       "      <th></th>\n",
       "      <th>lead_id</th>\n",
       "      <th>product</th>\n",
       "      <th>is_referral</th>\n",
       "      <th>referal_cost</th>\n",
       "      <th>device</th>\n",
       "      <th>marketing_source</th>\n",
       "      <th>lead_cost</th>\n",
       "      <th>unqualified_lead</th>\n",
       "      <th>qualified_lead</th>\n",
       "      <th>meeting_appointment</th>\n",
       "      <th>meeting</th>\n",
       "      <th>sale</th>\n",
       "    </tr>\n",
       "  </thead>\n",
       "  <tbody>\n",
       "    <tr>\n",
       "      <th>0</th>\n",
       "      <td>154236.0</td>\n",
       "      <td>Main Product</td>\n",
       "      <td>True</td>\n",
       "      <td>1000.0</td>\n",
       "      <td>NaN</td>\n",
       "      <td>NaN</td>\n",
       "      <td>0.000000</td>\n",
       "      <td>2021-07-01</td>\n",
       "      <td>2021-07-01</td>\n",
       "      <td>NaN</td>\n",
       "      <td>NaN</td>\n",
       "      <td>NaN</td>\n",
       "    </tr>\n",
       "    <tr>\n",
       "      <th>1</th>\n",
       "      <td>193988.0</td>\n",
       "      <td>Main Product</td>\n",
       "      <td>False</td>\n",
       "      <td>0.0</td>\n",
       "      <td>Mobile</td>\n",
       "      <td>Search Network</td>\n",
       "      <td>33.743385</td>\n",
       "      <td>2021-07-01</td>\n",
       "      <td>2021-07-03</td>\n",
       "      <td>NaN</td>\n",
       "      <td>NaN</td>\n",
       "      <td>NaN</td>\n",
       "    </tr>\n",
       "    <tr>\n",
       "      <th>2</th>\n",
       "      <td>101517.0</td>\n",
       "      <td>Main Product</td>\n",
       "      <td>False</td>\n",
       "      <td>0.0</td>\n",
       "      <td>Mobile</td>\n",
       "      <td>Paid Search</td>\n",
       "      <td>31.888973</td>\n",
       "      <td>2021-07-01</td>\n",
       "      <td>2021-07-01</td>\n",
       "      <td>2021-07-09</td>\n",
       "      <td>2021-07-10</td>\n",
       "      <td>2021-07-16</td>\n",
       "    </tr>\n",
       "    <tr>\n",
       "      <th>3</th>\n",
       "      <td>101634.0</td>\n",
       "      <td>Main Product</td>\n",
       "      <td>False</td>\n",
       "      <td>0.0</td>\n",
       "      <td>Mobile</td>\n",
       "      <td>Direct Traffic</td>\n",
       "      <td>0.000000</td>\n",
       "      <td>2021-07-01</td>\n",
       "      <td>NaN</td>\n",
       "      <td>NaN</td>\n",
       "      <td>NaN</td>\n",
       "      <td>NaN</td>\n",
       "    </tr>\n",
       "    <tr>\n",
       "      <th>4</th>\n",
       "      <td>165569.0</td>\n",
       "      <td>Main Product</td>\n",
       "      <td>False</td>\n",
       "      <td>0.0</td>\n",
       "      <td>Mobile</td>\n",
       "      <td>Search Network</td>\n",
       "      <td>39.631895</td>\n",
       "      <td>2021-07-01</td>\n",
       "      <td>2021-07-01</td>\n",
       "      <td>NaN</td>\n",
       "      <td>NaN</td>\n",
       "      <td>NaN</td>\n",
       "    </tr>\n",
       "  </tbody>\n",
       "</table>\n",
       "</div>"
      ],
      "text/plain": [
       "    lead_id       product  is_referral  referal_cost  device marketing_source  \\\n",
       "0  154236.0  Main Product         True        1000.0     NaN              NaN   \n",
       "1  193988.0  Main Product        False           0.0  Mobile   Search Network   \n",
       "2  101517.0  Main Product        False           0.0  Mobile      Paid Search   \n",
       "3  101634.0  Main Product        False           0.0  Mobile   Direct Traffic   \n",
       "4  165569.0  Main Product        False           0.0  Mobile   Search Network   \n",
       "\n",
       "   lead_cost unqualified_lead qualified_lead meeting_appointment     meeting  \\\n",
       "0   0.000000       2021-07-01     2021-07-01                 NaN         NaN   \n",
       "1  33.743385       2021-07-01     2021-07-03                 NaN         NaN   \n",
       "2  31.888973       2021-07-01     2021-07-01          2021-07-09  2021-07-10   \n",
       "3   0.000000       2021-07-01            NaN                 NaN         NaN   \n",
       "4  39.631895       2021-07-01     2021-07-01                 NaN         NaN   \n",
       "\n",
       "         sale  \n",
       "0         NaN  \n",
       "1         NaN  \n",
       "2  2021-07-16  \n",
       "3         NaN  \n",
       "4         NaN  "
      ]
     },
     "execution_count": 3,
     "metadata": {},
     "output_type": "execute_result"
    }
   ],
   "source": [
    "df.head()"
   ]
  },
  {
   "cell_type": "code",
   "execution_count": 4,
   "id": "sharp-borough",
   "metadata": {
    "scrolled": false
   },
   "outputs": [
    {
     "name": "stdout",
     "output_type": "stream",
     "text": [
      "Number of observations: 8060\n"
     ]
    }
   ],
   "source": [
    "print('Number of observations:', len(df))"
   ]
  },
  {
   "cell_type": "markdown",
   "id": "minor-character",
   "metadata": {},
   "source": [
    "**— Converting date values to datetime format.**"
   ]
  },
  {
   "cell_type": "code",
   "execution_count": 5,
   "id": "certified-wellington",
   "metadata": {},
   "outputs": [],
   "source": [
    "for column in ['unqualified_lead', 'qualified_lead', 'meeting_appointment', 'meeting', 'sale']: \n",
    "    \n",
    "    df[column] = pd.to_datetime(df[column])"
   ]
  },
  {
   "cell_type": "code",
   "execution_count": 6,
   "id": "affected-seven",
   "metadata": {},
   "outputs": [],
   "source": [
    "def date_to_text_month(date_timestamp):\n",
    "    \n",
    "    date_text_list = []\n",
    "    month = ''\n",
    "    \n",
    "    if pd.isnull(date_timestamp) == False: \n",
    "        \n",
    "        date_text_list = str(date_timestamp).split('-')\n",
    "        month = date_text_list[1] + '.' + date_text_list[0]\n",
    "    \n",
    "    return month"
   ]
  },
  {
   "cell_type": "code",
   "execution_count": 7,
   "id": "adverse-routine",
   "metadata": {},
   "outputs": [],
   "source": [
    "def date_to_text_half_month(date_timestamp):\n",
    "\n",
    "    date_text_list = []\n",
    "    half_month = ''\n",
    "    \n",
    "    if pd.isnull(date_timestamp) == False: \n",
    "        \n",
    "        date_text_list = str(date_timestamp).split('-')\n",
    "        \n",
    "        if int(date_text_list[2].split(' ')[0]) <= 15: \n",
    "            \n",
    "            half_month = '01.' + date_text_list[1] + '.' + date_text_list[0]\n",
    "            \n",
    "        if int(date_text_list[2].split(' ')[0]) > 15: \n",
    "            \n",
    "            half_month = '16.' + date_text_list[1] + '.' + date_text_list[0]\n",
    "    \n",
    "    return half_month"
   ]
  },
  {
   "cell_type": "code",
   "execution_count": 8,
   "id": "surface-curtis",
   "metadata": {},
   "outputs": [],
   "source": [
    "for date_column in ['unqualified_lead', 'qualified_lead', 'meeting_appointment', 'meeting', 'sale']: \n",
    "    \n",
    "    df[f'{date_column}_month'] = df[date_column].apply(date_to_text_month)\n",
    "    df[f'{date_column}_half_month'] = df[date_column].apply(date_to_text_half_month)"
   ]
  },
  {
   "cell_type": "markdown",
   "id": "violent-district",
   "metadata": {},
   "source": [
    "**— Grouping data into 3 dataframes to further visualize general metrics and metrics based on device type and marketing source.**"
   ]
  },
  {
   "cell_type": "code",
   "execution_count": 9,
   "id": "pregnant-rally",
   "metadata": {},
   "outputs": [],
   "source": [
    "df_analytics_general = pd.DataFrame(\n",
    "    df.groupby(\n",
    "        ['product', 'is_referral', \n",
    "         'unqualified_lead_month', 'unqualified_lead_half_month', \n",
    "         'qualified_lead_month', 'qualified_lead_half_month', \n",
    "         'meeting_appointment_month', 'meeting_appointment_half_month', \n",
    "         'meeting_month', 'meeting_half_month', \n",
    "         'sale_month', 'sale_half_month']\n",
    "    ).agg(\n",
    "        sum_lead_cost = pd.NamedAgg('lead_cost', 'sum'), \n",
    "        sum_referal_cost = pd.NamedAgg('referal_cost', 'sum'), \n",
    "        count_unqualified_lead = pd.NamedAgg('lead_id', 'count'), \n",
    "        count_qualified_lead = pd.NamedAgg('qualified_lead', 'count'), \n",
    "        count_meeting_appointment = pd.NamedAgg('meeting_appointment', 'count'), \n",
    "        count_meeting = pd.NamedAgg('meeting', 'count'), \n",
    "        count_sale = pd.NamedAgg('sale', 'count')\n",
    "    )\n",
    ").reset_index()"
   ]
  },
  {
   "cell_type": "code",
   "execution_count": 10,
   "id": "disabled-seating",
   "metadata": {},
   "outputs": [],
   "source": [
    "df_analytics_device = pd.DataFrame(\n",
    "    df[df['is_referral'] == False].groupby(\n",
    "        ['device', 'product', \n",
    "         'unqualified_lead_month', 'unqualified_lead_half_month', \n",
    "         'qualified_lead_month', 'qualified_lead_half_month', \n",
    "         'meeting_appointment_month', 'meeting_appointment_half_month', \n",
    "         'meeting_month', 'meeting_half_month', \n",
    "         'sale_month', 'sale_half_month']\n",
    "    ).agg(\n",
    "        sum_lead_cost = pd.NamedAgg('lead_cost', 'sum'), \n",
    "        sum_referal_cost = pd.NamedAgg('referal_cost', 'sum'), \n",
    "        count_unqualified_lead = pd.NamedAgg('lead_id', 'count'), \n",
    "        count_qualified_lead = pd.NamedAgg('qualified_lead', 'count'), \n",
    "        count_meeting_appointment = pd.NamedAgg('meeting_appointment', 'count'), \n",
    "        count_meeting = pd.NamedAgg('meeting', 'count'), \n",
    "        count_sale = pd.NamedAgg('sale', 'count')\n",
    "    )\n",
    ").reset_index()"
   ]
  },
  {
   "cell_type": "code",
   "execution_count": 11,
   "id": "static-lancaster",
   "metadata": {},
   "outputs": [],
   "source": [
    "df_analytics_marketing_source = pd.DataFrame(\n",
    "    df[df['is_referral'] == False].groupby(\n",
    "        ['marketing_source', 'product', \n",
    "         'unqualified_lead_month', 'unqualified_lead_half_month', \n",
    "         'qualified_lead_month', 'qualified_lead_half_month', \n",
    "         'meeting_appointment_month', 'meeting_appointment_half_month', \n",
    "         'meeting_month', 'meeting_half_month', \n",
    "         'sale_month', 'sale_half_month']\n",
    "    ).agg(\n",
    "        sum_lead_cost = pd.NamedAgg('lead_cost', 'sum'), \n",
    "        sum_referal_cost = pd.NamedAgg('referal_cost', 'sum'), \n",
    "        count_unqualified_lead = pd.NamedAgg('lead_id', 'count'), \n",
    "        count_qualified_lead = pd.NamedAgg('qualified_lead', 'count'), \n",
    "        count_meeting_appointment = pd.NamedAgg('meeting_appointment', 'count'), \n",
    "        count_meeting = pd.NamedAgg('meeting', 'count'), \n",
    "        count_sale = pd.NamedAgg('sale', 'count')\n",
    "    )\n",
    ").reset_index()"
   ]
  },
  {
   "cell_type": "markdown",
   "id": "proprietary-cream",
   "metadata": {},
   "source": [
    "**— Formating data to confirm Google Sheets requirements.**"
   ]
  },
  {
   "cell_type": "code",
   "execution_count": 12,
   "id": "attached-probability",
   "metadata": {},
   "outputs": [],
   "source": [
    "df_to_unload_general = df_analytics_general.copy()\n",
    "\n",
    "for column in ['unqualified_lead_half_month', 'qualified_lead_half_month', \n",
    "               'meeting_appointment_half_month', 'meeting_half_month', 'sale_half_month']: \n",
    "    \n",
    "    df_to_unload_general.loc[df_to_unload_general[column].str[:2] == '01', f'{column}_perdiod'] = '15 days'\n",
    "    df_to_unload_general.loc[df_to_unload_general[column].str[:2] == '16', f'{column}_perdiod'] = '30 days'\n",
    "\n",
    "for column in ['sum_lead_cost', 'sum_referal_cost', 'count_unqualified_lead', 'count_qualified_lead', \n",
    "               'count_meeting_appointment', 'count_meeting', 'count_sale']: \n",
    "    \n",
    "    df_to_unload_general[column] = df_to_unload_general[column].astype(str).apply(lambda x: x.replace('.', ','))\n",
    "    df_to_unload_general.loc[df_to_unload_general[column] == 'nan', column] = ''"
   ]
  },
  {
   "cell_type": "code",
   "execution_count": 13,
   "id": "right-lighting",
   "metadata": {},
   "outputs": [],
   "source": [
    "df_to_unload_device = df_analytics_device.copy()\n",
    "\n",
    "for column in ['unqualified_lead_half_month', 'qualified_lead_half_month', \n",
    "               'meeting_appointment_half_month', 'meeting_half_month', 'sale_half_month']: \n",
    "    \n",
    "    df_to_unload_device.loc[df_to_unload_device[column].str[:2] == '01', f'{column}_perdiod'] = '15 days'\n",
    "    df_to_unload_device.loc[df_to_unload_device[column].str[:2] == '16', f'{column}_perdiod'] = '30 days'\n",
    "\n",
    "for column in ['sum_lead_cost', 'sum_referal_cost', 'count_unqualified_lead', 'count_qualified_lead', \n",
    "               'count_meeting_appointment', 'count_meeting', 'count_sale']: \n",
    "    \n",
    "    df_to_unload_device[column] = df_to_unload_device[column].astype(str).apply(lambda x: x.replace('.', ','))\n",
    "    df_to_unload_device.loc[df_to_unload_device[column] == 'nan', column] = ''"
   ]
  },
  {
   "cell_type": "code",
   "execution_count": 14,
   "id": "federal-director",
   "metadata": {},
   "outputs": [],
   "source": [
    "df_to_unload_marketing_source = df_analytics_marketing_source.copy()\n",
    "\n",
    "for column in ['unqualified_lead_half_month', 'qualified_lead_half_month', \n",
    "               'meeting_appointment_half_month', 'meeting_half_month', 'sale_half_month']: \n",
    "    \n",
    "    df_to_unload_marketing_source.loc[df_to_unload_marketing_source[column].str[:2] == '01', f'{column}_perdiod'] = '15 days'\n",
    "    df_to_unload_marketing_source.loc[df_to_unload_marketing_source[column].str[:2] == '16', f'{column}_perdiod'] = '30 days'\n",
    "\n",
    "for column in ['sum_lead_cost', 'sum_referal_cost', 'count_unqualified_lead', 'count_qualified_lead', \n",
    "               'count_meeting_appointment', 'count_meeting', 'count_sale']: \n",
    "    \n",
    "    df_to_unload_marketing_source[column] = df_to_unload_marketing_source[column].astype(str).apply(lambda x: x.replace('.', ','))\n",
    "    df_to_unload_marketing_source.loc[df_to_unload_marketing_source[column] == 'nan', column] = ''"
   ]
  },
  {
   "cell_type": "markdown",
   "id": "amber-provider",
   "metadata": {},
   "source": [
    "## **2. DATA UNLOADING**"
   ]
  },
  {
   "cell_type": "code",
   "execution_count": 15,
   "id": "velvet-foster",
   "metadata": {},
   "outputs": [],
   "source": [
    "spread = Spread('1LolOZsqOVswfLzbsgCIa646TwI4Qe7XqN-X0QkweaxM', creds = credentials)"
   ]
  },
  {
   "cell_type": "code",
   "execution_count": 16,
   "id": "leading-auction",
   "metadata": {},
   "outputs": [],
   "source": [
    "spread.df_to_sheet(df_to_unload_general, sheet = 'Data | General', index = False)\n",
    "spread.df_to_sheet(df_to_unload_device, sheet = 'Data | Devices', index = False)\n",
    "spread.df_to_sheet(df_to_unload_marketing_source, sheet = 'Data | Marketing Sources', index = False)"
   ]
  }
 ],
 "metadata": {
  "kernelspec": {
   "display_name": "Python 3",
   "language": "python",
   "name": "python3"
  },
  "language_info": {
   "codemirror_mode": {
    "name": "ipython",
    "version": 3
   },
   "file_extension": ".py",
   "mimetype": "text/x-python",
   "name": "python",
   "nbconvert_exporter": "python",
   "pygments_lexer": "ipython3",
   "version": "3.8.7"
  }
 },
 "nbformat": 4,
 "nbformat_minor": 5
}
