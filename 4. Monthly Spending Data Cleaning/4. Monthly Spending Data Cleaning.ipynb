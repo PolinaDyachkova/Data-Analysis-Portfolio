{
 "cells": [
  {
   "cell_type": "markdown",
   "id": "dangerous-clone",
   "metadata": {},
   "source": [
    "# **MONTHLY SPENDING DATA CLEANING**"
   ]
  },
  {
   "cell_type": "code",
   "execution_count": 1,
   "id": "olympic-bunny",
   "metadata": {},
   "outputs": [],
   "source": [
    "import re\n",
    "import pandas as pd"
   ]
  },
  {
   "cell_type": "markdown",
   "id": "overhead-consumer",
   "metadata": {},
   "source": [
    "## **1. DATA LOADING**"
   ]
  },
  {
   "cell_type": "code",
   "execution_count": 2,
   "id": "critical-salem",
   "metadata": {},
   "outputs": [],
   "source": [
    "df = pd.read_csv('monthly_spending_dataset.csv')"
   ]
  },
  {
   "cell_type": "code",
   "execution_count": 3,
   "id": "cooked-halifax",
   "metadata": {},
   "outputs": [
    {
     "data": {
      "text/html": [
       "<div>\n",
       "<style scoped>\n",
       "    .dataframe tbody tr th:only-of-type {\n",
       "        vertical-align: middle;\n",
       "    }\n",
       "\n",
       "    .dataframe tbody tr th {\n",
       "        vertical-align: top;\n",
       "    }\n",
       "\n",
       "    .dataframe thead th {\n",
       "        text-align: right;\n",
       "    }\n",
       "</style>\n",
       "<table border=\"1\" class=\"dataframe\">\n",
       "  <thead>\n",
       "    <tr style=\"text-align: right;\">\n",
       "      <th></th>\n",
       "      <th>id</th>\n",
       "      <th>monthly_spending</th>\n",
       "    </tr>\n",
       "  </thead>\n",
       "  <tbody>\n",
       "    <tr>\n",
       "      <th>0</th>\n",
       "      <td>3D2E7EA4</td>\n",
       "      <td>48000 к</td>\n",
       "    </tr>\n",
       "    <tr>\n",
       "      <th>1</th>\n",
       "      <td>85C27C17</td>\n",
       "      <td>29000 - 39000 тр</td>\n",
       "    </tr>\n",
       "    <tr>\n",
       "      <th>2</th>\n",
       "      <td>362E1CB2</td>\n",
       "      <td>151 тыс руб</td>\n",
       "    </tr>\n",
       "    <tr>\n",
       "      <th>3</th>\n",
       "      <td>64B537AB</td>\n",
       "      <td>130000 - 166000 т р</td>\n",
       "    </tr>\n",
       "    <tr>\n",
       "      <th>4</th>\n",
       "      <td>524D168B</td>\n",
       "      <td>13 тр</td>\n",
       "    </tr>\n",
       "  </tbody>\n",
       "</table>\n",
       "</div>"
      ],
      "text/plain": [
       "         id     monthly_spending\n",
       "0  3D2E7EA4              48000 к\n",
       "1  85C27C17     29000 - 39000 тр\n",
       "2  362E1CB2          151 тыс руб\n",
       "3  64B537AB  130000 - 166000 т р\n",
       "4  524D168B                13 тр"
      ]
     },
     "execution_count": 3,
     "metadata": {},
     "output_type": "execute_result"
    }
   ],
   "source": [
    "df.head()"
   ]
  },
  {
   "cell_type": "code",
   "execution_count": 4,
   "id": "thermal-collins",
   "metadata": {
    "scrolled": true
   },
   "outputs": [
    {
     "name": "stdout",
     "output_type": "stream",
     "text": [
      "Number of observations: 10928\n"
     ]
    }
   ],
   "source": [
    "print('Number of observations:', len(df))"
   ]
  },
  {
   "cell_type": "markdown",
   "id": "marked-alberta",
   "metadata": {},
   "source": [
    "**— Checking missing values.**"
   ]
  },
  {
   "cell_type": "code",
   "execution_count": 5,
   "id": "supreme-slave",
   "metadata": {
    "scrolled": false
   },
   "outputs": [
    {
     "data": {
      "text/plain": [
       "id                  0\n",
       "monthly_spending    0\n",
       "dtype: int64"
      ]
     },
     "execution_count": 5,
     "metadata": {},
     "output_type": "execute_result"
    }
   ],
   "source": [
    "df.isnull().sum()"
   ]
  },
  {
   "cell_type": "markdown",
   "id": "urban-rings",
   "metadata": {},
   "source": [
    "## **2. DATA CLEANING**"
   ]
  },
  {
   "cell_type": "markdown",
   "id": "acquired-terrorism",
   "metadata": {},
   "source": [
    "**— Viewing possible options for the text component of ```'monthly_spending'```.**"
   ]
  },
  {
   "cell_type": "code",
   "execution_count": 6,
   "id": "involved-current",
   "metadata": {},
   "outputs": [],
   "source": [
    "df['no_digit_part'] = df['monthly_spending'].apply(lambda x: ''.join([i for i in x.lower() if not i.isdigit()]))"
   ]
  },
  {
   "cell_type": "code",
   "execution_count": 7,
   "id": "clean-plate",
   "metadata": {
    "scrolled": true
   },
   "outputs": [
    {
     "name": "stdout",
     "output_type": "stream",
     "text": [
      "[' к' ' -  тр' ' тыс руб' ' -  т р' ' тр' ' k' ' тыс' ' т' ' -  тыс р'\n",
      " ' -  тыс' ' т р' ' -  к' ' тыс р' ' -  k' '' ' -  т' ' -  тыс руб'\n",
      " ' +  тыс' ' тысяч' ' тысяч р' ' -  тысяч' ' к +  к' ' -  т руб' ' +  тр'\n",
      " ' тысяч руб' '. - . м' ' - , мил' ' +  тысяч рублей' ' -  тысяч р'\n",
      " ' тысяч рублей' ' тыс рублей' ' тыс -  мил' ' тыс - , м' ' тыс р -  мил'\n",
      " '. - . мил' ', - , м' ' -  тысяч рублей' '.- . млн' ' - . м' '. - . млн'\n",
      " ', - , млн' ' тыс -  млн' ' тр -  млн' ' + ']\n"
     ]
    }
   ],
   "source": [
    "print(df['no_digit_part'].unique())"
   ]
  },
  {
   "cell_type": "markdown",
   "id": "encouraging-acquisition",
   "metadata": {},
   "source": [
    "**— Cleaning montly spending values by multiplying if there is a plus, and finding the average if there is a dash.**"
   ]
  },
  {
   "cell_type": "code",
   "execution_count": 8,
   "id": "oriental-continent",
   "metadata": {},
   "outputs": [],
   "source": [
    "def clean_monthly_spending(cell): \n",
    "    \n",
    "    ms_str = str(cell).lower().replace(',', '.')\n",
    "    ms_str = ms_str.replace('рублей', '').replace('руб', '').replace('р', '')\n",
    "    \n",
    "    plus = '+' in ms_str\n",
    "    from_to = '-' in ms_str\n",
    "    \n",
    "    ms_str = ms_str.replace('к', 'k').replace('тысяч', 'k').replace('тыс', 'k').replace('т', 'k') \\\n",
    "                .replace('млн', 'mm').replace('мил', 'mm').replace('м', 'mm')\n",
    "    \n",
    "    digits = re.findall(r'[-+]?\\d*\\.\\d+|\\d+', ms_str)\n",
    "    \n",
    "    ms = 0\n",
    "    \n",
    "    if len(digits) == 1 and 'k' not in ms_str and 'mm' not in ms_str:\n",
    "        ms += float(digits[0])\n",
    "    \n",
    "    if len(digits) == 1 and float(digits[0]) < 1000 and 'k' in ms_str:\n",
    "        ms += float(digits[0]) * 1000\n",
    "        \n",
    "    if len(digits) == 1 and float(digits[0]) >= 1000 and 'k' in ms_str:\n",
    "        ms += float(digits[0])\n",
    "    \n",
    "    if len(digits) == 1 and float(digits[0]) < 1000000 and 'mm' in ms_str:\n",
    "        ms += float(digits[0]) * 1000000\n",
    "        \n",
    "    if len(digits) == 1 and float(digits[0]) >= 1000000 and 'mm' in ms_str:\n",
    "        ms += float(digits[0])\n",
    "    \n",
    "    if len(digits) == 2 and plus == True and 'k' not in ms_str and 'mm' not in ms_str:\n",
    "        ms += float(digits[0]) + float(digits[1])\n",
    "    \n",
    "    if len(digits) == 2 and plus == True and 'k' in ms_str and 'mm' not in ms_str and float(digits[0]) < 1000 and float(digits[1]) < 1000:\n",
    "        ms += (float(digits[0]) + float(digits[1])) * 1000\n",
    "    \n",
    "    if len(digits) == 2 and plus == True and 'k' in ms_str and 'mm' not in ms_str and float(digits[0]) >= 1000 and float(digits[1]) >= 1000:\n",
    "        ms += float(digits[0]) + float(digits[1])\n",
    "    \n",
    "    if len(digits) == 2 and plus == True and 'mm' in ms_str and 'k' not in ms_str and float(digits[0]) < 1000000 and float(digits[1]) < 1000000:\n",
    "        ms += (float(digits[0]) + float(digits[1])) * 1000000\n",
    "    \n",
    "    if len(digits) == 2 and plus == True and 'mm' in ms_str and 'k' not in ms_str and float(digits[0]) >= 1000000 and float(digits[1]) >= 1000000:\n",
    "        ms += float(digits[0]) + float(digits[1])\n",
    "    \n",
    "    if len(digits) == 2 and plus == True and 'k' in ms_str and 'mm' in ms_str and float(digits[0]) < 1000 and float(digits[1]) < 1000000:\n",
    "        ms += float(digits[0]) * 1000 + float(digits[1]) * 1000000\n",
    "    \n",
    "    if len(digits) == 2 and plus == True and 'k' in ms_str and 'mm' in ms_str and float(digits[0]) >= 1000 and float(digits[1]) >= 1000000:\n",
    "        ms += float(digits[0]) + float(digits[1])\n",
    "    \n",
    "    if len(digits) == 2 and from_to == True and 'k' not in ms_str and 'mm' not in ms_str:\n",
    "        ms += (float(digits[0]) + float(digits[1])) / 2\n",
    "    \n",
    "    if len(digits) == 2 and from_to == True and 'k' in ms_str and 'mm' not in ms_str and float(digits[0]) < 1000 and float(digits[1]) < 1000:\n",
    "        ms += (float(digits[0]) + float(digits[1])) * 1000 / 2\n",
    "    \n",
    "    if len(digits) == 2 and from_to == True and 'k' in ms_str and 'mm' not in ms_str and float(digits[0]) >= 1000 and float(digits[1]) >= 1000:\n",
    "        ms += (float(digits[0]) + float(digits[1])) / 2\n",
    "    \n",
    "    if len(digits) == 2 and from_to == True and 'mm' in ms_str and 'k' not in ms_str and float(digits[0]) < 1000000 and float(digits[1]) < 1000000:\n",
    "        ms += (float(digits[0]) + float(digits[1])) * 1000000 / 2\n",
    "        \n",
    "    if len(digits) == 2 and from_to == True and 'mm' in ms_str and 'k' not in ms_str and float(digits[0]) >= 1000000 and float(digits[1]) >= 1000000:\n",
    "        ms += (float(digits[0]) + float(digits[1])) / 2\n",
    "\n",
    "    if len(digits) == 2 and from_to == True and 'k' in ms_str and 'mm' in ms_str and float(digits[0]) < 1000 and float(digits[1]) < 1000000:\n",
    "        ms += (float(digits[0]) * 1000 + float(digits[1]) * 1000000) / 2\n",
    "    \n",
    "    if len(digits) == 2 and from_to == True and 'k' in ms_str and 'mm' in ms_str and float(digits[0]) >= 1000 and float(digits[1]) >= 1000000:\n",
    "        ms += (float(digits[0]) + float(digits[1])) / 2\n",
    "    \n",
    "    if plus == True and from_to == True:\n",
    "        ms = 0\n",
    "    \n",
    "    return ms"
   ]
  },
  {
   "cell_type": "code",
   "execution_count": 9,
   "id": "single-ministry",
   "metadata": {},
   "outputs": [],
   "source": [
    "df['cleaned_monthly_spending'] = df['monthly_spending'].apply(clean_monthly_spending)"
   ]
  },
  {
   "cell_type": "markdown",
   "id": "grave-double",
   "metadata": {},
   "source": [
    "## **3. FUNCTION APPLICATION TESTING**"
   ]
  },
  {
   "cell_type": "code",
   "execution_count": 10,
   "id": "artificial-panel",
   "metadata": {
    "scrolled": false
   },
   "outputs": [
    {
     "data": {
      "text/html": [
       "<div>\n",
       "<style scoped>\n",
       "    .dataframe tbody tr th:only-of-type {\n",
       "        vertical-align: middle;\n",
       "    }\n",
       "\n",
       "    .dataframe tbody tr th {\n",
       "        vertical-align: top;\n",
       "    }\n",
       "\n",
       "    .dataframe thead th {\n",
       "        text-align: right;\n",
       "    }\n",
       "</style>\n",
       "<table border=\"1\" class=\"dataframe\">\n",
       "  <thead>\n",
       "    <tr style=\"text-align: right;\">\n",
       "      <th></th>\n",
       "      <th>monthly_spending</th>\n",
       "      <th>cleaned_monthly_spending</th>\n",
       "    </tr>\n",
       "  </thead>\n",
       "  <tbody>\n",
       "    <tr>\n",
       "      <th>9978</th>\n",
       "      <td>143 тыс руб</td>\n",
       "      <td>143000.0</td>\n",
       "    </tr>\n",
       "    <tr>\n",
       "      <th>9218</th>\n",
       "      <td>79 k</td>\n",
       "      <td>79000.0</td>\n",
       "    </tr>\n",
       "    <tr>\n",
       "      <th>10576</th>\n",
       "      <td>258000 - 358000 тыс</td>\n",
       "      <td>308000.0</td>\n",
       "    </tr>\n",
       "    <tr>\n",
       "      <th>9716</th>\n",
       "      <td>150000</td>\n",
       "      <td>150000.0</td>\n",
       "    </tr>\n",
       "    <tr>\n",
       "      <th>4267</th>\n",
       "      <td>28 k</td>\n",
       "      <td>28000.0</td>\n",
       "    </tr>\n",
       "    <tr>\n",
       "      <th>297</th>\n",
       "      <td>43000 к</td>\n",
       "      <td>43000.0</td>\n",
       "    </tr>\n",
       "    <tr>\n",
       "      <th>9252</th>\n",
       "      <td>331 тыс</td>\n",
       "      <td>331000.0</td>\n",
       "    </tr>\n",
       "    <tr>\n",
       "      <th>8053</th>\n",
       "      <td>103000 т</td>\n",
       "      <td>103000.0</td>\n",
       "    </tr>\n",
       "    <tr>\n",
       "      <th>9905</th>\n",
       "      <td>182000 - 186000 тыс руб</td>\n",
       "      <td>184000.0</td>\n",
       "    </tr>\n",
       "    <tr>\n",
       "      <th>1739</th>\n",
       "      <td>15 тыс</td>\n",
       "      <td>15000.0</td>\n",
       "    </tr>\n",
       "  </tbody>\n",
       "</table>\n",
       "</div>"
      ],
      "text/plain": [
       "              monthly_spending  cleaned_monthly_spending\n",
       "9978               143 тыс руб                  143000.0\n",
       "9218                      79 k                   79000.0\n",
       "10576      258000 - 358000 тыс                  308000.0\n",
       "9716                    150000                  150000.0\n",
       "4267                      28 k                   28000.0\n",
       "297                    43000 к                   43000.0\n",
       "9252                   331 тыс                  331000.0\n",
       "8053                  103000 т                  103000.0\n",
       "9905   182000 - 186000 тыс руб                  184000.0\n",
       "1739                    15 тыс                   15000.0"
      ]
     },
     "execution_count": 10,
     "metadata": {},
     "output_type": "execute_result"
    }
   ],
   "source": [
    "df[['monthly_spending', 'cleaned_monthly_spending']].sample(10)"
   ]
  },
  {
   "cell_type": "code",
   "execution_count": 11,
   "id": "balanced-chancellor",
   "metadata": {
    "scrolled": false
   },
   "outputs": [
    {
     "name": "stdout",
     "output_type": "stream",
     "text": [
      "Mean Monthly Spending: 125653.9\n",
      "Median Monthly Spending: 85500.0\n",
      "Min Monthly Spending: 9000.0\n",
      "Max Monthly Spending: 1485000.0\n"
     ]
    }
   ],
   "source": [
    "print('Mean Monthly Spending:', round(df['cleaned_monthly_spending'].mean(), 1))\n",
    "print('Median Monthly Spending:', round(df['cleaned_monthly_spending'].median(), 1))\n",
    "print('Min Monthly Spending:', round(df['cleaned_monthly_spending'].min(), 1))\n",
    "print('Max Monthly Spending:', round(df['cleaned_monthly_spending'].max(), 1))"
   ]
  }
 ],
 "metadata": {
  "kernelspec": {
   "display_name": "Python 3",
   "language": "python",
   "name": "python3"
  },
  "language_info": {
   "codemirror_mode": {
    "name": "ipython",
    "version": 3
   },
   "file_extension": ".py",
   "mimetype": "text/x-python",
   "name": "python",
   "nbconvert_exporter": "python",
   "pygments_lexer": "ipython3",
   "version": "3.8.7"
  }
 },
 "nbformat": 4,
 "nbformat_minor": 5
}
