{
 "cells": [
  {
   "cell_type": "markdown",
   "id": "general-feature",
   "metadata": {},
   "source": [
    "# **\"BABY\" IN LED ZEPPELIN'S SONGS LYRICS**"
   ]
  },
  {
   "cell_type": "code",
   "execution_count": 1,
   "id": "hispanic-sheet",
   "metadata": {},
   "outputs": [],
   "source": [
    "from urllib.request import Request, urlopen\n",
    "from bs4 import BeautifulSoup\n",
    "\n",
    "import ssl\n",
    "ssl._create_default_https_context = ssl._create_unverified_context\n",
    "\n",
    "import re\n",
    "import pandas as pd"
   ]
  },
  {
   "cell_type": "markdown",
   "id": "sized-ready",
   "metadata": {},
   "source": [
    "## **1. WEB PARSING**"
   ]
  },
  {
   "cell_type": "markdown",
   "id": "offshore-bonus",
   "metadata": {},
   "source": [
    "**— Parsing Led Zeppelin's songs lyrics from [GENIUS](https://genius.com).** "
   ]
  },
  {
   "cell_type": "code",
   "execution_count": 2,
   "id": "divine-transport",
   "metadata": {},
   "outputs": [],
   "source": [
    "albums = ['Led Zeppelin', 'Led Zeppelin II', 'Led Zeppelin III', 'Led Zeppelin IV', \n",
    "          'Houses of the Holy', 'Physical Graffiti', 'Presence', 'In Through the Out Door', 'Coda']\n",
    "\n",
    "albums_list = []\n",
    "songs_list = []\n",
    "\n",
    "for album in albums:\n",
    "    \n",
    "    album_link = album.lower().replace(' ', '-')\n",
    "    \n",
    "    request = Request(f'https://genius.com/albums/Led-zeppelin/{album_link}', headers = {'User-Agent' : 'Mozilla/5.0'})\n",
    "    page = urlopen(request, timeout = 10).read()\n",
    "    \n",
    "    soup = BeautifulSoup(page, 'html.parser')\n",
    "    \n",
    "    all_songs = soup.find_all(class_ = 'chart_row-content-title')\n",
    "    \n",
    "    for song in all_songs:\n",
    "        \n",
    "        song_name = song.contents[0].text.strip().replace('\"', '')\n",
    "        \n",
    "        albums_list.append(album)\n",
    "        songs_list.append(song_name)"
   ]
  },
  {
   "cell_type": "code",
   "execution_count": 3,
   "id": "oriented-thomas",
   "metadata": {},
   "outputs": [],
   "source": [
    "lyrics_list = []\n",
    "\n",
    "for song in songs_list:\n",
    "    \n",
    "    song_link = str('led-zeppelin-' + song + '-lyrics').lower().replace(' ', '-').replace('(', '').replace(')', '').replace('[', '').replace(']', '').replace(\"'\", \"\")\n",
    "    \n",
    "    request = Request(f'https://genius.com/{song_link}', headers = {'User-Agent' : 'Mozilla/5.0'})\n",
    "    page = urlopen(request, timeout = 10).read()\n",
    "    \n",
    "    soup = BeautifulSoup(page, 'html.parser')\n",
    "    \n",
    "    lyrics = soup.find(class_ = 'jYfhrf')\n",
    "    \n",
    "    lyrics_text = ''\n",
    "    \n",
    "    if lyrics is not None:\n",
    "        \n",
    "        lyrics_text = ' '.join([str(i) for i in lyrics.contents])\n",
    "        lyrics_text = re.sub('<.*?>', ' ', lyrics_text)\n",
    "        lyrics_text = re.sub(' +', ' ', lyrics_text)\n",
    "        \n",
    "    lyrics_list.append(lyrics_text)"
   ]
  },
  {
   "cell_type": "markdown",
   "id": "universal-research",
   "metadata": {},
   "source": [
    "**— Merging ```'albums_list'```, ```'songs_list'``` and ```'lyrics_list'``` into a DataFrame.**"
   ]
  },
  {
   "cell_type": "code",
   "execution_count": 4,
   "id": "martial-shock",
   "metadata": {},
   "outputs": [],
   "source": [
    "df = pd.DataFrame(list(zip(albums_list, songs_list, lyrics_list)), \n",
    "                  columns = ['album', 'song', 'lyrics'])"
   ]
  },
  {
   "cell_type": "markdown",
   "id": "lucky-architecture",
   "metadata": {},
   "source": [
    "## **2. COUNT BABIES**"
   ]
  },
  {
   "cell_type": "markdown",
   "id": "unusual-dodge",
   "metadata": {},
   "source": [
    "**— Counting the number of \"baby\" and \"babe\" words.**"
   ]
  },
  {
   "cell_type": "code",
   "execution_count": 5,
   "id": "backed-seeker",
   "metadata": {},
   "outputs": [],
   "source": [
    "def count_baby(lyrics):\n",
    "    \n",
    "    lower_lyrics = lyrics.lower()\n",
    "    \n",
    "    baby_substring = 'baby'\n",
    "    baby_count = lower_lyrics.count(baby_substring)\n",
    "    \n",
    "    babe_substring = 'babe'\n",
    "    babe_count = lower_lyrics.count(babe_substring)\n",
    "    \n",
    "    count = baby_count + babe_count\n",
    "    \n",
    "    return count"
   ]
  },
  {
   "cell_type": "code",
   "execution_count": 6,
   "id": "urban-moral",
   "metadata": {},
   "outputs": [],
   "source": [
    "df['baby_count'] = df['lyrics'].apply(count_baby)"
   ]
  },
  {
   "cell_type": "markdown",
   "id": "contained-pizza",
   "metadata": {},
   "source": [
    "**— Main statistics on babies.**"
   ]
  },
  {
   "cell_type": "code",
   "execution_count": 7,
   "id": "ranging-problem",
   "metadata": {
    "scrolled": true
   },
   "outputs": [
    {
     "name": "stdout",
     "output_type": "stream",
     "text": [
      "Number of Songs with Baby in Lyrics: 47\n",
      "Percentage of Songs with Baby in Lyrics: 58.0\n"
     ]
    }
   ],
   "source": [
    "print('Number of Songs with Baby in Lyrics:', len(df[df['baby_count'] > 0]))\n",
    "print('Percentage of Songs with Baby in Lyrics:', round(len(df[df['baby_count'] > 0]) / len(df) * 100, 1))"
   ]
  },
  {
   "cell_type": "code",
   "execution_count": 8,
   "id": "going-expression",
   "metadata": {
    "scrolled": false
   },
   "outputs": [
    {
     "name": "stdout",
     "output_type": "stream",
     "text": [
      "Avarage Baby Count: 3.4\n",
      "Max Baby Count: 35\n"
     ]
    }
   ],
   "source": [
    "print('Avarage Baby Count:', round(df['baby_count'].mean(), 1))\n",
    "print('Max Baby Count:', df['baby_count'].max())"
   ]
  },
  {
   "cell_type": "markdown",
   "id": "tender-namibia",
   "metadata": {},
   "source": [
    "**— The babiest songs.**"
   ]
  },
  {
   "cell_type": "code",
   "execution_count": 9,
   "id": "damaged-address",
   "metadata": {
    "scrolled": true
   },
   "outputs": [
    {
     "data": {
      "text/html": [
       "<div>\n",
       "<style scoped>\n",
       "    .dataframe tbody tr th:only-of-type {\n",
       "        vertical-align: middle;\n",
       "    }\n",
       "\n",
       "    .dataframe tbody tr th {\n",
       "        vertical-align: top;\n",
       "    }\n",
       "\n",
       "    .dataframe thead th {\n",
       "        text-align: right;\n",
       "    }\n",
       "</style>\n",
       "<table border=\"1\" class=\"dataframe\">\n",
       "  <thead>\n",
       "    <tr style=\"text-align: right;\">\n",
       "      <th></th>\n",
       "      <th>album</th>\n",
       "      <th>song</th>\n",
       "      <th>baby_count</th>\n",
       "    </tr>\n",
       "  </thead>\n",
       "  <tbody>\n",
       "    <tr>\n",
       "      <th>0</th>\n",
       "      <td>Presence</td>\n",
       "      <td>Candy Store Rock</td>\n",
       "      <td>35</td>\n",
       "    </tr>\n",
       "    <tr>\n",
       "      <th>1</th>\n",
       "      <td>Led Zeppelin</td>\n",
       "      <td>Babe I'm Gonna Leave You</td>\n",
       "      <td>28</td>\n",
       "    </tr>\n",
       "    <tr>\n",
       "      <th>2</th>\n",
       "      <td>Led Zeppelin IV</td>\n",
       "      <td>Four Sticks</td>\n",
       "      <td>20</td>\n",
       "    </tr>\n",
       "    <tr>\n",
       "      <th>3</th>\n",
       "      <td>Led Zeppelin II</td>\n",
       "      <td>Ramble On</td>\n",
       "      <td>14</td>\n",
       "    </tr>\n",
       "    <tr>\n",
       "      <th>4</th>\n",
       "      <td>Houses of the Holy</td>\n",
       "      <td>D'yer Mak'er</td>\n",
       "      <td>12</td>\n",
       "    </tr>\n",
       "    <tr>\n",
       "      <th>5</th>\n",
       "      <td>Physical Graffiti</td>\n",
       "      <td>Boogie with Stu</td>\n",
       "      <td>12</td>\n",
       "    </tr>\n",
       "    <tr>\n",
       "      <th>6</th>\n",
       "      <td>Led Zeppelin II</td>\n",
       "      <td>The Lemon Song</td>\n",
       "      <td>9</td>\n",
       "    </tr>\n",
       "    <tr>\n",
       "      <th>7</th>\n",
       "      <td>Led Zeppelin II</td>\n",
       "      <td>Bring It On Home</td>\n",
       "      <td>9</td>\n",
       "    </tr>\n",
       "    <tr>\n",
       "      <th>8</th>\n",
       "      <td>Led Zeppelin</td>\n",
       "      <td>You Shook Me</td>\n",
       "      <td>8</td>\n",
       "    </tr>\n",
       "    <tr>\n",
       "      <th>9</th>\n",
       "      <td>Led Zeppelin</td>\n",
       "      <td>I Can't Quit You Baby</td>\n",
       "      <td>8</td>\n",
       "    </tr>\n",
       "  </tbody>\n",
       "</table>\n",
       "</div>"
      ],
      "text/plain": [
       "                album                      song  baby_count\n",
       "0            Presence          Candy Store Rock          35\n",
       "1        Led Zeppelin  Babe I'm Gonna Leave You          28\n",
       "2     Led Zeppelin IV               Four Sticks          20\n",
       "3     Led Zeppelin II                 Ramble On          14\n",
       "4  Houses of the Holy              D'yer Mak'er          12\n",
       "5   Physical Graffiti           Boogie with Stu          12\n",
       "6     Led Zeppelin II            The Lemon Song           9\n",
       "7     Led Zeppelin II          Bring It On Home           9\n",
       "8        Led Zeppelin              You Shook Me           8\n",
       "9        Led Zeppelin     I Can't Quit You Baby           8"
      ]
     },
     "execution_count": 9,
     "metadata": {},
     "output_type": "execute_result"
    }
   ],
   "source": [
    "df[['album', 'song', 'baby_count']].sort_values(by = 'baby_count', ascending = False).reset_index(drop = True).head(10)"
   ]
  },
  {
   "cell_type": "code",
   "execution_count": 10,
   "id": "measured-intervention",
   "metadata": {
    "scrolled": false
   },
   "outputs": [
    {
     "data": {
      "text/plain": [
       "[\"[Verse 1] Well Oh baby baby, don't you want a man like me? Oh baby baby, I'm just as sweet as anybody could be Oh baby baby, I want to look to your eyes of blue Oh baby baby, it's more than anybody else could do [Verse 2] Well Oh baby baby, you know when I see you walking down the street Oh baby baby, well you looking good enough to eat Oh baby baby, I don't believe I've tasted this before Oh baby baby, I want it now and every mouthful more of you [Hook] Talk about you, talk about you, talk about you [Verse 3] Oh baby baby, you know that I wanted it more Oh baby baby, I'm about to kiss goodbye to this store Oh baby baby, it ain't the wrapping that sells the goods Oh baby baby, I got a sweet tooth when my mouth is full of you [Hook] Talk about you, talk about you, talk about you Talk about you, talk about you, talk about you [Chorus] Ooh baby, oh Baby it's alright, it's alright Ooh Baby it's alright, it's alright [Verse 4] Well Oh baby, baby, oh you sting like a bee Oh baby, baby, I like your honey and it sure likes me Oh baby, baby, I got my spoon inside your jar Oh baby, baby, don't give me too much, don't make me starve \"]"
      ]
     },
     "execution_count": 10,
     "metadata": {},
     "output_type": "execute_result"
    }
   ],
   "source": [
    "df[df['song'] == 'Candy Store Rock']['lyrics'].tolist()"
   ]
  },
  {
   "cell_type": "markdown",
   "id": "passive-essence",
   "metadata": {},
   "source": [
    "**— The babiest albums.**"
   ]
  },
  {
   "cell_type": "code",
   "execution_count": 11,
   "id": "charged-stockholm",
   "metadata": {
    "scrolled": true
   },
   "outputs": [
    {
     "data": {
      "text/html": [
       "<div>\n",
       "<style scoped>\n",
       "    .dataframe tbody tr th:only-of-type {\n",
       "        vertical-align: middle;\n",
       "    }\n",
       "\n",
       "    .dataframe tbody tr th {\n",
       "        vertical-align: top;\n",
       "    }\n",
       "\n",
       "    .dataframe thead th {\n",
       "        text-align: right;\n",
       "    }\n",
       "</style>\n",
       "<table border=\"1\" class=\"dataframe\">\n",
       "  <thead>\n",
       "    <tr style=\"text-align: right;\">\n",
       "      <th></th>\n",
       "      <th>album</th>\n",
       "      <th>baby_count</th>\n",
       "    </tr>\n",
       "  </thead>\n",
       "  <tbody>\n",
       "    <tr>\n",
       "      <th>0</th>\n",
       "      <td>Led Zeppelin</td>\n",
       "      <td>59</td>\n",
       "    </tr>\n",
       "    <tr>\n",
       "      <th>1</th>\n",
       "      <td>Presence</td>\n",
       "      <td>51</td>\n",
       "    </tr>\n",
       "    <tr>\n",
       "      <th>2</th>\n",
       "      <td>Led Zeppelin II</td>\n",
       "      <td>41</td>\n",
       "    </tr>\n",
       "    <tr>\n",
       "      <th>3</th>\n",
       "      <td>Led Zeppelin IV</td>\n",
       "      <td>36</td>\n",
       "    </tr>\n",
       "    <tr>\n",
       "      <th>4</th>\n",
       "      <td>Physical Graffiti</td>\n",
       "      <td>31</td>\n",
       "    </tr>\n",
       "    <tr>\n",
       "      <th>5</th>\n",
       "      <td>In Through the Out Door</td>\n",
       "      <td>18</td>\n",
       "    </tr>\n",
       "    <tr>\n",
       "      <th>6</th>\n",
       "      <td>Coda</td>\n",
       "      <td>17</td>\n",
       "    </tr>\n",
       "    <tr>\n",
       "      <th>7</th>\n",
       "      <td>Houses of the Holy</td>\n",
       "      <td>17</td>\n",
       "    </tr>\n",
       "    <tr>\n",
       "      <th>8</th>\n",
       "      <td>Led Zeppelin III</td>\n",
       "      <td>8</td>\n",
       "    </tr>\n",
       "  </tbody>\n",
       "</table>\n",
       "</div>"
      ],
      "text/plain": [
       "                     album  baby_count\n",
       "0             Led Zeppelin          59\n",
       "1                 Presence          51\n",
       "2          Led Zeppelin II          41\n",
       "3          Led Zeppelin IV          36\n",
       "4        Physical Graffiti          31\n",
       "5  In Through the Out Door          18\n",
       "6                     Coda          17\n",
       "7       Houses of the Holy          17\n",
       "8         Led Zeppelin III           8"
      ]
     },
     "execution_count": 11,
     "metadata": {},
     "output_type": "execute_result"
    }
   ],
   "source": [
    "df.groupby('album')['baby_count'].sum().reset_index().sort_values(by = 'baby_count', ascending = False).reset_index(drop = True)"
   ]
  }
 ],
 "metadata": {
  "kernelspec": {
   "display_name": "Python 3",
   "language": "python",
   "name": "python3"
  },
  "language_info": {
   "codemirror_mode": {
    "name": "ipython",
    "version": 3
   },
   "file_extension": ".py",
   "mimetype": "text/x-python",
   "name": "python",
   "nbconvert_exporter": "python",
   "pygments_lexer": "ipython3",
   "version": "3.8.7"
  }
 },
 "nbformat": 4,
 "nbformat_minor": 5
}
